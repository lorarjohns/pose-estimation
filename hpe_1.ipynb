{
  "nbformat": 4,
  "nbformat_minor": 0,
  "metadata": {
    "colab": {
      "name": "hpe-1.ipynb",
      "provenance": [],
      "collapsed_sections": [],
      "authorship_tag": "ABX9TyNyZdUE1oBa38o4+lHrPDD4",
      "include_colab_link": true
    },
    "kernelspec": {
      "name": "python3",
      "display_name": "Python 3"
    },
    "accelerator": "GPU"
  },
  "cells": [
    {
      "cell_type": "markdown",
      "metadata": {
        "id": "view-in-github",
        "colab_type": "text"
      },
      "source": [
        "<a href=\"https://colab.research.google.com/github/lorarjohns/pose-estimation/blob/master/hpe_1.ipynb\" target=\"_parent\"><img src=\"https://colab.research.google.com/assets/colab-badge.svg\" alt=\"Open In Colab\"/></a>"
      ]
    },
    {
      "cell_type": "code",
      "metadata": {
        "id": "O6oU7nIfKkt8",
        "colab_type": "code",
        "colab": {
          "base_uri": "https://localhost:8080/",
          "height": 435
        },
        "outputId": "452c3983-9f27-4e3f-9bef-93acce9e2825"
      },
      "source": [
        "!wget http://ufldl.stanford.edu/housenumbers/train_32x32.mat\n",
        "!wget http://ufldl.stanford.edu/housenumbers/test_32x32.mat"
      ],
      "execution_count": 3,
      "outputs": [
        {
          "output_type": "stream",
          "text": [
            "--2020-03-06 03:32:57--  http://ufldl.stanford.edu/housenumbers/train_32x32.mat\n",
            "Resolving ufldl.stanford.edu (ufldl.stanford.edu)... 171.64.68.10\n",
            "Connecting to ufldl.stanford.edu (ufldl.stanford.edu)|171.64.68.10|:80... connected.\n",
            "HTTP request sent, awaiting response... 200 OK\n",
            "Length: 182040794 (174M) [text/plain]\n",
            "Saving to: ‘train_32x32.mat’\n",
            "\n",
            "train_32x32.mat     100%[===================>] 173.61M  16.7MB/s    in 14s     \n",
            "\n",
            "2020-03-06 03:33:12 (12.0 MB/s) - ‘train_32x32.mat’ saved [182040794/182040794]\n",
            "\n",
            "--2020-03-06 03:33:22--  http://ufldl.stanford.edu/housenumbers/test_32x32.mat\n",
            "Resolving ufldl.stanford.edu (ufldl.stanford.edu)... 171.64.68.10\n",
            "Connecting to ufldl.stanford.edu (ufldl.stanford.edu)|171.64.68.10|:80... connected.\n",
            "HTTP request sent, awaiting response... 200 OK\n",
            "Length: 64275384 (61M) [text/plain]\n",
            "Saving to: ‘test_32x32.mat’\n",
            "\n",
            "test_32x32.mat      100%[===================>]  61.30M  15.5MB/s    in 7.4s    \n",
            "\n",
            "2020-03-06 03:33:29 (8.33 MB/s) - ‘test_32x32.mat’ saved [64275384/64275384]\n",
            "\n"
          ],
          "name": "stdout"
        }
      ]
    },
    {
      "cell_type": "code",
      "metadata": {
        "id": "UrcllNudAwxX",
        "colab_type": "code",
        "colab": {}
      },
      "source": [
        "!mkdir data"
      ],
      "execution_count": 0,
      "outputs": []
    },
    {
      "cell_type": "code",
      "metadata": {
        "id": "tEMYYm0PNi4D",
        "colab_type": "code",
        "colab": {}
      },
      "source": [
        "import scipy.io as sio \n",
        "\n",
        "train = sio.loadmat(\"train_32x32.mat\")"
      ],
      "execution_count": 0,
      "outputs": []
    },
    {
      "cell_type": "code",
      "metadata": {
        "id": "OgbJv2yGOFMJ",
        "colab_type": "code",
        "colab": {
          "base_uri": "https://localhost:8080/",
          "height": 36
        },
        "outputId": "6edc14df-226b-4afb-e202-eb7f4b419f81"
      },
      "source": [
        "train.keys()"
      ],
      "execution_count": 5,
      "outputs": [
        {
          "output_type": "execute_result",
          "data": {
            "text/plain": [
              "dict_keys(['__header__', '__version__', '__globals__', 'X', 'y'])"
            ]
          },
          "metadata": {
            "tags": []
          },
          "execution_count": 5
        }
      ]
    },
    {
      "cell_type": "code",
      "metadata": {
        "id": "74rAlViuOG7J",
        "colab_type": "code",
        "colab": {}
      },
      "source": [
        "x_train = train['X']\n",
        "y_train = train['y']"
      ],
      "execution_count": 0,
      "outputs": []
    },
    {
      "cell_type": "code",
      "metadata": {
        "id": "rm6F6fjUOdKj",
        "colab_type": "code",
        "colab": {}
      },
      "source": [
        "import numpy as np\n",
        "import os\n",
        "import binascii\n",
        "import h5py\n",
        "import PIL as pillow\n",
        "from PIL import Image\n",
        "from collections import defaultdict\n",
        "\n",
        "import logging"
      ],
      "execution_count": 0,
      "outputs": []
    },
    {
      "cell_type": "code",
      "metadata": {
        "id": "d2fma-dpOglv",
        "colab_type": "code",
        "colab": {
          "base_uri": "https://localhost:8080/",
          "height": 36
        },
        "outputId": "a8587bbb-7f05-4e62-b2df-58351d3568da"
      },
      "source": [
        "type(x_train)"
      ],
      "execution_count": 10,
      "outputs": [
        {
          "output_type": "execute_result",
          "data": {
            "text/plain": [
              "numpy.ndarray"
            ]
          },
          "metadata": {
            "tags": []
          },
          "execution_count": 10
        }
      ]
    },
    {
      "cell_type": "code",
      "metadata": {
        "id": "bZp1Q7ywQDoY",
        "colab_type": "code",
        "colab": {}
      },
      "source": [
        "import matplotlib.pylab as plt\n",
        "import matplotlib.cm as cm\n",
        "%matplotlib inline"
      ],
      "execution_count": 0,
      "outputs": []
    },
    {
      "cell_type": "code",
      "metadata": {
        "id": "x0KF6UyMBfH8",
        "colab_type": "code",
        "colab": {
          "base_uri": "https://localhost:8080/",
          "height": 132
        },
        "outputId": "de03ba27-ed90-41e5-cf6d-8b6599f56e3c"
      },
      "source": [
        "from google.colab import drive\n",
        "drive.mount('/content/drive')"
      ],
      "execution_count": 56,
      "outputs": [
        {
          "output_type": "stream",
          "text": [
            "Go to this URL in a browser: https://accounts.google.com/o/oauth2/auth?client_id=947318989803-6bn6qk8qdgf4n4g3pfee6491hc0brc4i.apps.googleusercontent.com&redirect_uri=urn%3aietf%3awg%3aoauth%3a2.0%3aoob&response_type=code&scope=email%20https%3a%2f%2fwww.googleapis.com%2fauth%2fdocs.test%20https%3a%2f%2fwww.googleapis.com%2fauth%2fdrive%20https%3a%2f%2fwww.googleapis.com%2fauth%2fdrive.photos.readonly%20https%3a%2f%2fwww.googleapis.com%2fauth%2fpeopleapi.readonly\n",
            "\n",
            "Enter your authorization code:\n",
            "··········\n",
            "Mounted at /content/drive\n"
          ],
          "name": "stdout"
        }
      ]
    },
    {
      "cell_type": "code",
      "metadata": {
        "id": "N_kawk4JDmF8",
        "colab_type": "code",
        "colab": {
          "base_uri": "https://localhost:8080/",
          "height": 1000
        },
        "outputId": "6850c450-0394-4b99-acc0-5543cb39164b"
      },
      "source": [
        "x_train"
      ],
      "execution_count": 80,
      "outputs": [
        {
          "output_type": "execute_result",
          "data": {
            "text/plain": [
              "array([[[[ 33,  84,  19, ...,  92, 190, 216],\n",
              "         [ 30,  76,  54, ...,  78, 188, 217],\n",
              "         [ 38,  59, 110, ..., 101, 191, 212]],\n",
              "\n",
              "        [[ 15,  86,  20, ...,  94, 205, 221],\n",
              "         [ 23,  73,  52, ...,  82, 203, 222],\n",
              "         [ 19,  66, 111, ..., 105, 206, 217]],\n",
              "\n",
              "        [[ 15,  77,  25, ..., 114, 220, 226],\n",
              "         [ 17,  78,  57, ..., 101, 218, 227],\n",
              "         [ 19,  56, 116, ..., 125, 220, 221]],\n",
              "\n",
              "        ...,\n",
              "\n",
              "        [[ 72,  90,  65, ..., 200, 229, 200],\n",
              "         [ 65,  78, 144, ..., 201, 231, 199],\n",
              "         [ 56,  69, 223, ..., 203, 224, 191]],\n",
              "\n",
              "        [[ 82,  88,  78, ..., 192, 229, 193],\n",
              "         [ 77,  77, 148, ..., 193, 229, 188],\n",
              "         [ 57,  67, 218, ..., 195, 224, 182]],\n",
              "\n",
              "        [[ 89,  88,  98, ..., 190, 229, 197],\n",
              "         [ 79,  78, 158, ..., 191, 228, 189],\n",
              "         [ 59,  66, 220, ..., 193, 223, 186]]],\n",
              "\n",
              "\n",
              "       [[[ 28,  85,  21, ...,  92, 183, 204],\n",
              "         [ 39,  77,  53, ...,  78, 182, 205],\n",
              "         [ 35,  61, 110, ..., 103, 186, 202]],\n",
              "\n",
              "        [[ 14,  83,  19, ...,  93, 200, 210],\n",
              "         [ 25,  73,  52, ...,  80, 199, 211],\n",
              "         [ 22,  64, 106, ..., 106, 201, 208]],\n",
              "\n",
              "        [[ 14,  74,  25, ..., 111, 218, 220],\n",
              "         [ 20,  69,  56, ...,  98, 217, 221],\n",
              "         [ 17,  59, 111, ..., 124, 218, 217]],\n",
              "\n",
              "        ...,\n",
              "\n",
              "        [[ 40,  89,  63, ..., 181, 227, 201],\n",
              "         [ 39,  82, 137, ..., 180, 228, 199],\n",
              "         [ 50,  64, 208, ..., 184, 223, 193]],\n",
              "\n",
              "        [[ 67,  88,  91, ..., 177, 227, 195],\n",
              "         [ 58,  79, 153, ..., 176, 226, 191],\n",
              "         [ 52,  70, 214, ..., 180, 222, 186]],\n",
              "\n",
              "        [[ 83,  88, 130, ..., 183, 228, 196],\n",
              "         [ 78,  81, 180, ..., 182, 224, 190],\n",
              "         [ 60,  67, 229, ..., 187, 221, 186]]],\n",
              "\n",
              "\n",
              "       [[[ 40,  83,  21, ...,  99, 171, 198],\n",
              "         [ 41,  76,  53, ...,  84, 170, 198],\n",
              "         [ 38,  60, 110, ..., 112, 175, 197]],\n",
              "\n",
              "        [[ 18,  78,  20, ...,  94, 189, 202],\n",
              "         [ 21,  77,  51, ...,  81, 189, 202],\n",
              "         [ 26,  58, 106, ..., 110, 193, 201]],\n",
              "\n",
              "        [[ 16,  61,  22, ..., 107, 213, 212],\n",
              "         [ 17,  50,  52, ...,  94, 213, 211],\n",
              "         [ 23,  54, 106, ..., 123, 215, 210]],\n",
              "\n",
              "        ...,\n",
              "\n",
              "        [[ 23,  90,  79, ..., 167, 231, 203],\n",
              "         [ 29,  85, 147, ..., 166, 230, 200],\n",
              "         [ 45,  63, 210, ..., 171, 226, 196]],\n",
              "\n",
              "        [[ 35,  88, 125, ..., 172, 229, 198],\n",
              "         [ 42,  83, 181, ..., 171, 226, 194],\n",
              "         [ 44,  66, 230, ..., 176, 223, 191]],\n",
              "\n",
              "        [[ 72,  85, 178, ..., 185, 227, 195],\n",
              "         [ 69,  82, 218, ..., 184, 223, 190],\n",
              "         [ 53,  70, 254, ..., 189, 220, 187]]],\n",
              "\n",
              "\n",
              "       ...,\n",
              "\n",
              "\n",
              "       [[[ 86, 100,  88, ...,  99, 187, 233],\n",
              "         [ 81,  98, 162, ...,  94, 185, 226],\n",
              "         [ 75,  72, 237, ..., 110, 186, 228]],\n",
              "\n",
              "        [[ 87,  98,  89, ...,  96, 204, 230],\n",
              "         [ 82,  94, 163, ...,  91, 202, 224],\n",
              "         [ 71,  76, 238, ..., 109, 199, 225]],\n",
              "\n",
              "        [[ 82,  95,  84, ..., 108, 217, 228],\n",
              "         [ 79,  93, 156, ..., 103, 217, 223],\n",
              "         [ 65,  73, 230, ..., 124, 210, 221]],\n",
              "\n",
              "        ...,\n",
              "\n",
              "        [[104, 104,  62, ..., 210, 204, 198],\n",
              "         [104, 104, 142, ..., 207, 200, 196],\n",
              "         [ 87,  86, 227, ..., 204, 195, 190]],\n",
              "\n",
              "        [[104, 102,  67, ..., 206, 196, 184],\n",
              "         [105, 102, 144, ..., 202, 193, 183],\n",
              "         [ 81,  87, 226, ..., 200, 189, 177]],\n",
              "\n",
              "        [[103, 100,  74, ..., 203, 196, 189],\n",
              "         [105, 101, 145, ..., 197, 193, 187],\n",
              "         [ 78,  78, 225, ..., 199, 189, 182]]],\n",
              "\n",
              "\n",
              "       [[[ 84, 103,  88, ...,  94, 186, 231],\n",
              "         [ 86, 104, 164, ...,  91, 184, 226],\n",
              "         [ 64,  79, 240, ..., 103, 185, 228]],\n",
              "\n",
              "        [[ 86, 106,  87, ...,  94, 198, 229],\n",
              "         [ 79, 104, 160, ...,  91, 197, 224],\n",
              "         [ 72,  79, 237, ..., 104, 194, 225]],\n",
              "\n",
              "        [[ 82, 103,  88, ..., 110, 211, 227],\n",
              "         [ 76, 103, 159, ..., 107, 211, 223],\n",
              "         [ 72,  87, 237, ..., 121, 204, 222]],\n",
              "\n",
              "        ...,\n",
              "\n",
              "        [[110, 103,  60, ..., 219, 222, 195],\n",
              "         [103, 104, 141, ..., 218, 216, 194],\n",
              "         [ 84,  86, 230, ..., 215, 212, 186]],\n",
              "\n",
              "        [[106, 103,  61, ..., 218, 214, 181],\n",
              "         [105, 103, 141, ..., 215, 209, 181],\n",
              "         [ 85,  87, 228, ..., 212, 205, 173]],\n",
              "\n",
              "        [[106, 105,  65, ..., 212, 208, 186],\n",
              "         [104,  99, 143, ..., 209, 205, 183],\n",
              "         [ 86,  81, 226, ..., 209, 200, 177]]],\n",
              "\n",
              "\n",
              "       [[[ 85, 103,  84, ...,  88, 190, 230],\n",
              "         [ 88, 106, 160, ...,  87, 188, 226],\n",
              "         [ 68,  82, 238, ...,  94, 190, 227]],\n",
              "\n",
              "        [[ 89, 103,  81, ...,  85, 199, 230],\n",
              "         [ 82, 105, 154, ...,  84, 197, 226],\n",
              "         [ 72,  87, 233, ...,  93, 194, 227]],\n",
              "\n",
              "        [[ 85, 104,  87, ..., 105, 208, 229],\n",
              "         [ 79, 106, 158, ..., 103, 208, 225],\n",
              "         [ 67,  91, 238, ..., 114, 201, 226]],\n",
              "\n",
              "        ...,\n",
              "\n",
              "        [[111, 113,  63, ..., 217, 232, 190],\n",
              "         [104, 103, 144, ..., 217, 227, 190],\n",
              "         [ 87,  88, 235, ..., 214, 223, 181]],\n",
              "\n",
              "        [[109, 104,  62, ..., 221, 226, 178],\n",
              "         [105, 104, 143, ..., 220, 221, 177],\n",
              "         [ 86,  88, 232, ..., 219, 216, 169]],\n",
              "\n",
              "        [[103, 103,  63, ..., 218, 218, 181],\n",
              "         [106,  98, 145, ..., 217, 213, 178],\n",
              "         [ 79,  80, 231, ..., 218, 209, 171]]]], dtype=uint8)"
            ]
          },
          "metadata": {
            "tags": []
          },
          "execution_count": 80
        }
      ]
    },
    {
      "cell_type": "code",
      "metadata": {
        "id": "_hT1v1BT94qM",
        "colab_type": "code",
        "colab": {}
      },
      "source": [
        "def preprocess(dataset, features, labels, target_path):\n",
        "  '''\n",
        "  dataset: train or test\n",
        "  features: X\n",
        "  labels: y\n",
        "  target_path: save file\n",
        "  '''\n",
        "  images = []\n",
        "  lab = []\n",
        "\n",
        "  size = features.shape[3]\n",
        "\n",
        "  label_count = defaultdict(int)\n",
        "\n",
        "  for i in range(size):\n",
        "    label = labels[i][0]\n",
        "    lab.append(label)\n",
        "\n",
        "    #count = 0\n",
        "    #if label in label_count:\n",
        "    label_count[label] += 1\n",
        "    #else:\n",
        "    #  label_count[label] = \n",
        "\n",
        "    filename = binascii.hexlify(os.urandom(6//2)).decode()\n",
        "    filename = f\"{dataset}_{filename}_{label}_{label_count[label]}.png\"\n",
        "    filepath = os.path.join(target_path, filename)\n",
        "\n",
        "    image = Image.fromarray(features[:,:,:,i])\n",
        "\n",
        "    #if grayscale:\n",
        "    #  image = image.convert(\"L\")\n",
        "    #else:\n",
        "    image = image.convert(\"RGB\")\n",
        "    image.save(filepath)\n",
        "\n",
        "    if i % 1000 == 0 or i == 1:\n",
        "      logging.info(f\"Step {i}: saved {filename}.\")\n",
        "    \n",
        "    images.append(image)\n",
        "\n",
        "  return images, lab"
      ],
      "execution_count": 0,
      "outputs": []
    },
    {
      "cell_type": "code",
      "metadata": {
        "id": "l2ah2NQS6te9",
        "colab_type": "code",
        "colab": {
          "base_uri": "https://localhost:8080/",
          "height": 36
        },
        "outputId": "3fa98635-c1f8-4aaf-ad16-a5a8e2f1910c"
      },
      "source": [
        "im, lab = preprocess('train', x_train, y_train, \"./data\")"
      ],
      "execution_count": 98,
      "outputs": [
        {
          "output_type": "stream",
          "text": [
            "label: [3]\n"
          ],
          "name": "stdout"
        }
      ]
    },
    {
      "cell_type": "code",
      "metadata": {
        "id": "eiDU-9WsE6j4",
        "colab_type": "code",
        "colab": {
          "base_uri": "https://localhost:8080/",
          "height": 304
        },
        "outputId": "26a35e51-7036-43c5-b546-ad425a5dbb94"
      },
      "source": [
        "print(f\"label: {y_train[10]}\")\n",
        "plt.imshow(im[10])"
      ],
      "execution_count": 99,
      "outputs": [
        {
          "output_type": "stream",
          "text": [
            "label: [3]\n"
          ],
          "name": "stdout"
        },
        {
          "output_type": "execute_result",
          "data": {
            "text/plain": [
              "<matplotlib.image.AxesImage at 0x7f7e3012d358>"
            ]
          },
          "metadata": {
            "tags": []
          },
          "execution_count": 99
        },
        {
          "output_type": "display_data",
          "data": {
            "image/png": "[encoded data removed]",
            "text/plain": [
              "<Figure size 432x288 with 1 Axes>"
            ]
          },
          "metadata": {
            "tags": []
          }
        }
      ]
    },
    {
      "cell_type": "code",
      "metadata": {
        "id": "wWw7kydfD8GV",
        "colab_type": "code",
        "colab": {
          "base_uri": "https://localhost:8080/",
          "height": 1000
        },
        "outputId": "0ea2e47b-5c13-4303-9f47-cc2e32de6953"
      },
      "source": [
        "f, ax = plt.subplots()\n",
        "for i in range(10):\n",
        "  print(lab[i])\n",
        "  plt.imshow(im[i])\n",
        "  plt.show()"
      ],
      "execution_count": 107,
      "outputs": [
        {
          "output_type": "stream",
          "text": [
            "1\n"
          ],
          "name": "stdout"
        },
        {
          "output_type": "display_data",
          "data": {
            "image/png": "[encoded data removed]",
            "text/plain": [
              "<Figure size 432x288 with 1 Axes>"
            ]
          },
          "metadata": {
            "tags": []
          }
        },
        {
          "output_type": "stream",
          "text": [
            "9\n"
          ],
          "name": "stdout"
        },
        {
          "output_type": "display_data",
          "data": {
            "image/png": "[encoded data removed]",
            "text/plain": [
              "<Figure size 432x288 with 1 Axes>"
            ]
          },
          "metadata": {
            "tags": []
          }
        },
        {
          "output_type": "stream",
          "text": [
            "2\n"
          ],
          "name": "stdout"
        },
        {
          "output_type": "display_data",
          "data": {
            "image/png": "[encoded data removed]",
            "text/plain": [
              "<Figure size 432x288 with 1 Axes>"
            ]
          },
          "metadata": {
            "tags": []
          }
        },
        {
          "output_type": "stream",
          "text": [
            "3\n"
          ],
          "name": "stdout"
        },
        {
          "output_type": "display_data",
          "data": {
            "image/png": "[encoded data removed]",
            "text/plain": [
              "<Figure size 432x288 with 1 Axes>"
            ]
          },
          "metadata": {
            "tags": []
          }
        },
        {
          "output_type": "stream",
          "text": [
            "2\n"
          ],
          "name": "stdout"
        },
        {
          "output_type": "display_data",
          "data": {
            "image/png": "[encoded data removed]",
            "text/plain": [
              "<Figure size 432x288 with 1 Axes>"
            ]
          },
          "metadata": {
            "tags": []
          }
        },
        {
          "output_type": "stream",
          "text": [
            "5\n"
          ],
          "name": "stdout"
        },
        {
          "output_type": "display_data",
          "data": {
            "image/png": "[encoded data removed]",
            "text/plain": [
              "<Figure size 432x288 with 1 Axes>"
            ]
          },
          "metadata": {
            "tags": []
          }
        },
        {
          "output_type": "stream",
          "text": [
            "9\n"
          ],
          "name": "stdout"
        },
        {
          "output_type": "display_data",
          "data": {
            "image/png": "[encoded data removed]",
            "text/plain": [
              "<Figure size 432x288 with 1 Axes>"
            ]
          },
          "metadata": {
            "tags": []
          }
        },
        {
          "output_type": "stream",
          "text": [
            "3\n"
          ],
          "name": "stdout"
        },
        {
          "output_type": "display_data",
          "data": {
            "image/png": "[encoded data removed]",
            "text/plain": [
              "<Figure size 432x288 with 1 Axes>"
            ]
          },
          "metadata": {
            "tags": []
          }
        },
        {
          "output_type": "stream",
          "text": [
            "3\n"
          ],
          "name": "stdout"
        },
        {
          "output_type": "display_data",
          "data": {
            "image/png": "[encoded data removed]",
            "text/plain": [
              "<Figure size 432x288 with 1 Axes>"
            ]
          },
          "metadata": {
            "tags": []
          }
        },
        {
          "output_type": "stream",
          "text": [
            "1\n"
          ],
          "name": "stdout"
        },
        {
          "output_type": "display_data",
          "data": {
            "image/png": "[encoded data removed]",
            "text/plain": [
              "<Figure size 432x288 with 1 Axes>"
            ]
          },
          "metadata": {
            "tags": []
          }
        }
      ]
    },
    {
      "cell_type": "code",
      "metadata": {
        "id": "HN3cH3AAEm_U",
        "colab_type": "code",
        "colab": {
          "base_uri": "https://localhost:8080/",
          "height": 36
        },
        "outputId": "d569a1ab-a1f5-4a18-aa71-e48aac78d229"
      },
      "source": [
        "y_train.shape"
      ],
      "execution_count": 93,
      "outputs": [
        {
          "output_type": "execute_result",
          "data": {
            "text/plain": [
              "(73257, 1)"
            ]
          },
          "metadata": {
            "tags": []
          },
          "execution_count": 93
        }
      ]
    },
    {
      "cell_type": "code",
      "metadata": {
        "id": "rVD7NJ75A_aU",
        "colab_type": "code",
        "colab": {}
      },
      "source": [
        "image = Image.open('data/train_000047_9_5508.png')\n",
        "image = np.array(image)"
      ],
      "execution_count": 0,
      "outputs": []
    },
    {
      "cell_type": "code",
      "metadata": {
        "id": "7H0yW08c6-D_",
        "colab_type": "code",
        "colab": {
          "base_uri": "https://localhost:8080/",
          "height": 36
        },
        "outputId": "7688208d-5074-458f-87c6-0296f5479a2a"
      },
      "source": [
        "y_train[10].shape"
      ],
      "execution_count": 40,
      "outputs": [
        {
          "output_type": "execute_result",
          "data": {
            "text/plain": [
              "(1,)"
            ]
          },
          "metadata": {
            "tags": []
          },
          "execution_count": 40
        }
      ]
    },
    {
      "cell_type": "code",
      "metadata": {
        "id": "GFhmC6JRCsjv",
        "colab_type": "code",
        "colab": {}
      },
      "source": [
        "#image. format, mode, size"
      ],
      "execution_count": 0,
      "outputs": []
    },
    {
      "cell_type": "code",
      "metadata": {
        "id": "bstUEPEz7AXh",
        "colab_type": "code",
        "colab": {}
      },
      "source": [
        "# Important Note: Digit “0” has label 10. Replace all the labels “10“ with label “0”\n",
        "\n",
        "# mask = np.where(y_train == 10)\n",
        "\n",
        "y_train_0 = np.where(y_train !=10, y_train, 0)"
      ],
      "execution_count": 0,
      "outputs": []
    },
    {
      "cell_type": "code",
      "metadata": {
        "id": "IKj0pTXnF5kS",
        "colab_type": "code",
        "colab": {}
      },
      "source": [
        "np.where(y_train_0 == 0)[0] # == np.where(y_train == 10)[0]"
      ],
      "execution_count": 0,
      "outputs": []
    },
    {
      "cell_type": "code",
      "metadata": {
        "id": "e0CmA9H8GT4r",
        "colab_type": "code",
        "colab": {}
      },
      "source": [
        "'''\n",
        "train2017 folder: training images\n",
        "val2017 folder: validation images\n",
        "annotations/person_keypoints_train2017.json: keypoint and bounding box information for the training images\n",
        "annotations/person_keypoints_val2017.json: keypoint and bounding box information for the validation images\n",
        "'''"
      ],
      "execution_count": 0,
      "outputs": []
    },
    {
      "cell_type": "markdown",
      "metadata": {
        "id": "X3Pq4pmzJtfj",
        "colab_type": "text"
      },
      "source": [
        ""
      ]
    },
    {
      "cell_type": "code",
      "metadata": {
        "id": "eSm6rjSRHMio",
        "colab_type": "code",
        "colab": {
          "base_uri": "https://localhost:8080/",
          "height": 65
        },
        "outputId": "051b2c53-c4df-425e-b381-d841147bdfbb"
      },
      "source": [
        "# !pip install gluoncv mxnet\n",
        "# !curl https://gluon-cv.mxnet.io/_downloads/b6ade342998e03f5eaa0f129ad5eee80/mscoco.py > mscoco.py\n",
        "!python mscoco.py --download-dir=\"/content/drive/My Drive/Data/COCO/\"\n",
        "from matplotlib import pyplot as plt\n",
        "from gluoncv import data, utils\n",
        "\n",
        "\n",
        "train_dataset = data.COCODetection(splits=['instances_train2017'])\n",
        "val_dataset = data.COCODetection(splits=['instances_val2017'])\n",
        "print('Num of training images:', len(train_dataset))\n",
        "print('Num of validation images:', len(val_dataset))"
      ],
      "execution_count": 0,
      "outputs": [
        {
          "output_type": "stream",
          "text": [
            "Downloading /content/drive/My Drive/Data/COCO/train2017.zip from http://images.cocodataset.org/zips/train2017.zip...\n",
            " 13% 2457490/18883654 [03:54<25:34, 10704.65KB/s]"
          ],
          "name": "stdout"
        }
      ]
    },
    {
      "cell_type": "code",
      "metadata": {
        "id": "OjIrEwYeJ2qy",
        "colab_type": "code",
        "colab": {
          "base_uri": "https://localhost:8080/",
          "height": 254
        },
        "outputId": "8ecb98ca-a799-4a6a-f40b-a1a328faafee"
      },
      "source": [
        "train_image, train_label = train_dataset[0]\n",
        "bounding_boxes = train_label[:, :4]\n",
        "class_ids = train_label[:, 4:5]\n",
        "print('Image size (height, width, RGB):', train_image.shape)\n",
        "print('Num of objects:', bounding_boxes.shape[0])\n",
        "print('Bounding boxes (num_boxes, x_min, y_min, x_max, y_max):\\n',\n",
        "      bounding_boxes)\n",
        "print('Class IDs (num_boxes, ):\\n', class_ids)\n",
        "\n",
        "utils.viz.plot_bbox(train_image.asnumpy(), bounding_boxes, scores=None,\n",
        "                    labels=class_ids, class_names=train_dataset.classes)\n",
        "plt.show()"
      ],
      "execution_count": 142,
      "outputs": [
        {
          "output_type": "error",
          "ename": "NameError",
          "evalue": "ignored",
          "traceback": [
            "\u001b[0;31m---------------------------------------------------------------------------\u001b[0m",
            "\u001b[0;31mNameError\u001b[0m                                 Traceback (most recent call last)",
            "\u001b[0;32m<ipython-input-142-574b1e92de52>\u001b[0m in \u001b[0;36m<module>\u001b[0;34m()\u001b[0m\n\u001b[0;32m----> 1\u001b[0;31m \u001b[0mtrain_image\u001b[0m\u001b[0;34m,\u001b[0m \u001b[0mtrain_label\u001b[0m \u001b[0;34m=\u001b[0m \u001b[0mtrain_dataset\u001b[0m\u001b[0;34m[\u001b[0m\u001b[0;36m0\u001b[0m\u001b[0;34m]\u001b[0m\u001b[0;34m\u001b[0m\u001b[0;34m\u001b[0m\u001b[0m\n\u001b[0m\u001b[1;32m      2\u001b[0m \u001b[0mbounding_boxes\u001b[0m \u001b[0;34m=\u001b[0m \u001b[0mtrain_label\u001b[0m\u001b[0;34m[\u001b[0m\u001b[0;34m:\u001b[0m\u001b[0;34m,\u001b[0m \u001b[0;34m:\u001b[0m\u001b[0;36m4\u001b[0m\u001b[0;34m]\u001b[0m\u001b[0;34m\u001b[0m\u001b[0;34m\u001b[0m\u001b[0m\n\u001b[1;32m      3\u001b[0m \u001b[0mclass_ids\u001b[0m \u001b[0;34m=\u001b[0m \u001b[0mtrain_label\u001b[0m\u001b[0;34m[\u001b[0m\u001b[0;34m:\u001b[0m\u001b[0;34m,\u001b[0m \u001b[0;36m4\u001b[0m\u001b[0;34m:\u001b[0m\u001b[0;36m5\u001b[0m\u001b[0;34m]\u001b[0m\u001b[0;34m\u001b[0m\u001b[0;34m\u001b[0m\u001b[0m\n\u001b[1;32m      4\u001b[0m \u001b[0mprint\u001b[0m\u001b[0;34m(\u001b[0m\u001b[0;34m'Image size (height, width, RGB):'\u001b[0m\u001b[0;34m,\u001b[0m \u001b[0mtrain_image\u001b[0m\u001b[0;34m.\u001b[0m\u001b[0mshape\u001b[0m\u001b[0;34m)\u001b[0m\u001b[0;34m\u001b[0m\u001b[0;34m\u001b[0m\u001b[0m\n\u001b[1;32m      5\u001b[0m \u001b[0mprint\u001b[0m\u001b[0;34m(\u001b[0m\u001b[0;34m'Num of objects:'\u001b[0m\u001b[0;34m,\u001b[0m \u001b[0mbounding_boxes\u001b[0m\u001b[0;34m.\u001b[0m\u001b[0mshape\u001b[0m\u001b[0;34m[\u001b[0m\u001b[0;36m0\u001b[0m\u001b[0;34m]\u001b[0m\u001b[0;34m)\u001b[0m\u001b[0;34m\u001b[0m\u001b[0;34m\u001b[0m\u001b[0m\n",
            "\u001b[0;31mNameError\u001b[0m: name 'train_dataset' is not defined"
          ]
        }
      ]
    },
    {
      "cell_type": "code",
      "metadata": {
        "id": "FuYVyoiNK5Wt",
        "colab_type": "code",
        "colab": {}
      },
      "source": [
        ""
      ],
      "execution_count": 0,
      "outputs": []
    }
  ]
}